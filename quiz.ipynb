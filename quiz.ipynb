{
  "nbformat": 4,
  "nbformat_minor": 0,
  "metadata": {
    "kernelspec": {
      "display_name": "Python 3",
      "language": "python",
      "name": "python3"
    },
    "language_info": {
      "codemirror_mode": {
        "name": "ipython",
        "version": 3
      },
      "file_extension": ".py",
      "mimetype": "text/x-python",
      "name": "python",
      "nbconvert_exporter": "python",
      "pygments_lexer": "ipython3",
      "version": "3.8.5"
    },
    "colab": {
      "name": "quiz.ipynb",
      "provenance": [],
      "include_colab_link": true
    }
  },
  "cells": [
    {
      "cell_type": "markdown",
      "metadata": {
        "id": "view-in-github",
        "colab_type": "text"
      },
      "source": [
        "<a href=\"https://colab.research.google.com/github/gibsonx/CE902/blob/master/quiz.ipynb\" target=\"_parent\"><img src=\"https://colab.research.google.com/assets/colab-badge.svg\" alt=\"Open In Colab\"/></a>"
      ]
    },
    {
      "cell_type": "code",
      "metadata": {
        "id": "_agvxyg6mEUq",
        "colab": {
          "base_uri": "https://localhost:8080/"
        },
        "outputId": "652f2fd6-7434-4f16-d6a2-9de0202e5465"
      },
      "source": [
        "!git clone https://github.com/gibsonx/CE902.git"
      ],
      "execution_count": 1,
      "outputs": [
        {
          "output_type": "stream",
          "text": [
            "Cloning into 'CE902'...\n",
            "remote: Enumerating objects: 28, done.\u001b[K\n",
            "remote: Counting objects: 100% (28/28), done.\u001b[K\n",
            "remote: Compressing objects: 100% (27/27), done.\u001b[K\n",
            "remote: Total 28 (delta 13), reused 7 (delta 0), pack-reused 0\u001b[K\n",
            "Unpacking objects: 100% (28/28), done.\n"
          ],
          "name": "stdout"
        }
      ]
    },
    {
      "cell_type": "code",
      "metadata": {
        "id": "0zNO69Oql5Za"
      },
      "source": [
        "import scipy\n",
        "import scipy.stats as stats\n",
        "import numpy as np\n",
        "import scipy.special as scsp\n",
        "import pandas as pd\n",
        "import os\n",
        "from scipy.stats import norm\n",
        "import matplotlib.pyplot as plt"
      ],
      "execution_count": 2,
      "outputs": []
    },
    {
      "cell_type": "markdown",
      "metadata": {
        "id": "4N1YnT1PpFHP"
      },
      "source": [
        "#Practice quiz 1 for week 19 lecture: Basic definitions.\r\n",
        "\r\n",
        "This tool is for calculating simple Mean, Mode and Standard\r\n",
        "https://www.calculatorsoup.com/calculators/statistics/mean-median-mode.php\r\n",
        "\r\n",
        "#Random variable\r\n",
        "countless samples in a range means continuous random variable.\r\n",
        "\r\n",
        "fixed number of samples in a range means discrete random variable.\r\n",
        "\r\n",
        "#Random distribution\r\n",
        "When Sample size is **fixed** in a scope, it names *uniform random distribution.*\r\n",
        "\r\n",
        "When As N (sample size) becomes **large** (more than 30), it is a *normal distribution.*\r\n",
        "\r\n",
        "Question 6"
      ]
    },
    {
      "cell_type": "code",
      "metadata": {
        "colab": {
          "base_uri": "https://localhost:8080/"
        },
        "id": "mBEDhvxrvHWw",
        "outputId": "d313c795-3576-4150-8143-37558501fb1e"
      },
      "source": [
        "n = 2\r\n",
        "dice = 6 ** n\r\n",
        "print('size is: ', dice)"
      ],
      "execution_count": 3,
      "outputs": [
        {
          "output_type": "stream",
          "text": [
            "size is:  36\n"
          ],
          "name": "stdout"
        }
      ]
    },
    {
      "cell_type": "markdown",
      "metadata": {
        "id": "IqCb8znEvCU0"
      },
      "source": [
        "Question 7 what is P(X=11), the number of premutation for total rolled (X=11) by two dice "
      ]
    },
    {
      "cell_type": "code",
      "metadata": {
        "colab": {
          "base_uri": "https://localhost:8080/"
        },
        "id": "fcL5bjJvl5Zc",
        "outputId": "d17fea09-2612-474c-9e53-141412e3fe10"
      },
      "source": [
        "X = 11 # there is no difference between {5,6} and {6,5} \n",
        "print('P(X=11) is:', round(1/dice*n,3))"
      ],
      "execution_count": 16,
      "outputs": [
        {
          "output_type": "stream",
          "text": [
            "P(X=11) is: 0.056\n"
          ],
          "name": "stdout"
        }
      ]
    },
    {
      "cell_type": "markdown",
      "metadata": {
        "id": "xaslkzRItJOe"
      },
      "source": [
        "#Practice quiz 2 for week 19 lecture: Calculations with Normal Distribution\r\n",
        "Question 7 P(Z<0.97)\r\n",
        "\r\n"
      ]
    },
    {
      "cell_type": "code",
      "metadata": {
        "colab": {
          "base_uri": "https://localhost:8080/"
        },
        "id": "V9mYUlx-l5Zc",
        "outputId": "b9ca57c9-65de-4d3b-9a77-4bdc92ab6f36"
      },
      "source": [
        "p_values = 1 - scipy.stats.norm.sf(abs(0.97))\n",
        "print(round(p_values,3))"
      ],
      "execution_count": 5,
      "outputs": [
        {
          "output_type": "stream",
          "text": [
            "0.834\n"
          ],
          "name": "stdout"
        }
      ]
    },
    {
      "cell_type": "markdown",
      "metadata": {
        "id": "Uu3C_Xl7tZDb"
      },
      "source": [
        "Question 8 P(Z>0.4)"
      ]
    },
    {
      "cell_type": "code",
      "metadata": {
        "colab": {
          "base_uri": "https://localhost:8080/"
        },
        "id": "R1F4XcvWl5Zd",
        "outputId": "e89c8ade-93e9-4700-9c2f-dded2cdfe978"
      },
      "source": [
        "p_values = scipy.stats.norm.sf(abs(0.4))\n",
        "print(round(p_values,3))"
      ],
      "execution_count": 6,
      "outputs": [
        {
          "output_type": "stream",
          "text": [
            "0.345\n"
          ],
          "name": "stdout"
        }
      ]
    },
    {
      "cell_type": "markdown",
      "metadata": {
        "id": "jvyp85iYti_Z"
      },
      "source": [
        "Question 10 \"2-tailed\" z value was -2.375"
      ]
    },
    {
      "cell_type": "code",
      "metadata": {
        "colab": {
          "base_uri": "https://localhost:8080/"
        },
        "id": "i_FTLuEI2gdV",
        "outputId": "c1e48579-e64d-48af-d03e-6e2772300d9d"
      },
      "source": [
        "p_values = scipy.stats.norm.sf(abs(-2.375))*2\r\n",
        "print(round(p_values,3))"
      ],
      "execution_count": 7,
      "outputs": [
        {
          "output_type": "stream",
          "text": [
            "0.018\n"
          ],
          "name": "stdout"
        }
      ]
    },
    {
      "cell_type": "code",
      "metadata": {
        "colab": {
          "base_uri": "https://localhost:8080/"
        },
        "id": "Qj8um-dPl5Zd",
        "outputId": "16177034-5280-405a-d64d-f69cc8611b84"
      },
      "source": [
        "p = 4\n",
        "print(p * 1 / 36)"
      ],
      "execution_count": 8,
      "outputs": [
        {
          "output_type": "stream",
          "text": [
            "0.1111111111111111\n"
          ],
          "name": "stdout"
        }
      ]
    },
    {
      "cell_type": "code",
      "metadata": {
        "id": "kyL_dRcml5Zd"
      },
      "source": [
        "root = '/content/CE902'\n",
        "df = pd.read_csv(os.path.join(root, \"example_samples.csv\"))"
      ],
      "execution_count": 9,
      "outputs": []
    },
    {
      "cell_type": "code",
      "metadata": {
        "colab": {
          "base_uri": "https://localhost:8080/"
        },
        "id": "iColtC_wl5Zd",
        "outputId": "fdd9f8bd-3263-469d-9146-6cff44e161e9"
      },
      "source": [
        "#Practice quiz 3 for week 19 lecture: The z-test\n",
        "#meangroup 1\n",
        "z1_mean = df['GROUP 1'].mean()\n",
        "print(z1_mean)\n",
        "#mean group 1\n",
        "z2_mean = df['GROUP 2'].mean()\n",
        "print(z2_mean)\n",
        "\n",
        "#standard deviation group 1\n",
        "std_1 = df['GROUP 1'].std()\n",
        "print(std_1)\n",
        "#group1 number\n",
        "N = len(df['GROUP 1'])\n",
        "\n",
        "#Question 6\n",
        "#standard error for group 1 = population standard deviation / root square sample size\n",
        "t_std = 2.1\n",
        "std_error = t_std / np.sqrt(N)\n",
        "print('standard_error: ' + str(round(std_error,3)))\n",
        "\n",
        "#Question 7 \n",
        "#true mean 15.4 and true standard deviation 2.1\n",
        "# z-value = group_1 mean - true mean divide std_error we caculate above\n",
        "t_mean = 15.4 #mean 15.4 \n",
        "t_std = 2.1\n",
        "z = (z1_mean - t_mean) / std_error\n",
        "print('z-value for Group 1:',round(z,3))"
      ],
      "execution_count": 10,
      "outputs": [
        {
          "output_type": "stream",
          "text": [
            "14.336825838487641\n",
            "16.325533102683206\n",
            "1.3730389588067535\n",
            "standard_error: 0.448\n",
            "z-value for Group 1: -2.375\n"
          ],
          "name": "stdout"
        }
      ]
    },
    {
      "cell_type": "code",
      "metadata": {
        "id": "ulLInkVml5Ze"
      },
      "source": [
        "df = pd.read_csv(os.path.join(root, \"example_samples_t.csv\"))"
      ],
      "execution_count": 11,
      "outputs": []
    },
    {
      "cell_type": "code",
      "metadata": {
        "colab": {
          "base_uri": "https://localhost:8080/"
        },
        "id": "QAiw3Z-Jl5Ze",
        "outputId": "fdb12137-8bf7-43ec-c08b-2fc50ee082b1"
      },
      "source": [
        "#Practice quiz 3 for week 19 lecture: The t-value####\n",
        "#meangroup 1\n",
        "t1_mean = df['GROUP 1'].mean()\n",
        "print(round(t1_mean,3))\n",
        "#mean group 1\n",
        "t2_mean = df['GROUP 2'].mean()\n",
        "print(round(t2_mean,3))\n",
        "N_1 = len(df['GROUP 1'])\n",
        "N_2 = len(df['GROUP 2'])\n",
        "\n",
        "#standard deviation group 1\n",
        "std_1 = df['GROUP 1'].std()\n",
        "# print(round(std_1,3))\n",
        "std_2 = df['GROUP 2'].std()\n",
        "# print(round(std_2,3))\n",
        "\n",
        "#Question 6 \"sp\" value\n",
        "sp = np.sqrt((np.square(std_1) + np.square(std_2)) / 2)\n",
        "print(\"sp\",abs(round(sp,3)))\n",
        "\n",
        "#Question 7 t-value for these 2 group\n",
        "t = (t1_mean - t2_mean) / (sp * np.sqrt(2/N_1))\n",
        "print(\"t-test: \",abs(round(t,3)))"
      ],
      "execution_count": 12,
      "outputs": [
        {
          "output_type": "stream",
          "text": [
            "14.337\n",
            "16.326\n",
            "sp 1.109\n",
            "t-test:  5.946\n"
          ],
          "name": "stdout"
        }
      ]
    },
    {
      "cell_type": "code",
      "metadata": {
        "colab": {
          "base_uri": "https://localhost:8080/"
        },
        "id": "_9jLTNe2l5Ze",
        "outputId": "22558c58-091f-486b-cf52-9cdf5714a1d7"
      },
      "source": [
        "#Week 20\n",
        "#Question 1 Correlation Coefficient\n",
        "df = pd.read_csv(os.path.join(root, \"dataset_for_correlation.csv\"))\n",
        "my_rho = np.corrcoef(df['x'], df['y'])\n",
        "print(round(my_rho[0][1],3))"
      ],
      "execution_count": 13,
      "outputs": [
        {
          "output_type": "stream",
          "text": [
            "0.958\n"
          ],
          "name": "stdout"
        }
      ]
    },
    {
      "cell_type": "code",
      "metadata": {
        "colab": {
          "base_uri": "https://localhost:8080/"
        },
        "id": "jRzAmctjl5Ze",
        "outputId": "4f98fd19-4b85-4f5b-9a56-88276792ba06"
      },
      "source": [
        "#Question 3 What is m? Question 4 what is c\n",
        "from statistics import mean\n",
        "xs = df['x']\n",
        "ys = df['y']\n",
        "\n",
        "def best_fit_slope_and_intercept(xs,ys):\n",
        "    m = (((mean(xs)*mean(ys)) - mean(xs*ys)) /\n",
        "         ((mean(xs)*mean(xs)) - mean(xs*xs)))\n",
        "    b = mean(ys) - m*mean(xs)    \n",
        "    return m, b\n",
        "\n",
        "def best_fit_slope_and_intercept(xs,ys):\n",
        "    m = (((mean(xs)*mean(ys)) - mean(xs*ys)) /\n",
        "         ((mean(xs)*mean(xs)) - mean(xs*xs)))\n",
        "    b = mean(ys) - m*mean(xs)\n",
        "    return m, b\n",
        "m, c = best_fit_slope_and_intercept(xs,ys)\n",
        "print('m:',round(m,3))\n",
        "print('c:',round(c,3))"
      ],
      "execution_count": 14,
      "outputs": [
        {
          "output_type": "stream",
          "text": [
            "m: 1.992\n",
            "c: 4.957\n"
          ],
          "name": "stdout"
        }
      ]
    },
    {
      "cell_type": "code",
      "metadata": {
        "colab": {
          "base_uri": "https://localhost:8080/"
        },
        "id": "hzAx1wUel5Zf",
        "outputId": "1185b241-2469-4601-e90a-2912205145fe"
      },
      "source": [
        "#Question 5\n",
        "x= 2.5\n",
        "y = x*m + c\n",
        "print(round(y,3))"
      ],
      "execution_count": 15,
      "outputs": [
        {
          "output_type": "stream",
          "text": [
            "9.938\n"
          ],
          "name": "stdout"
        }
      ]
    }
  ]
}