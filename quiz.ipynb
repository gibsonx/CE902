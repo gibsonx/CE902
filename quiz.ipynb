{
 "cells": [
  {
   "cell_type": "code",
   "execution_count": 1,
   "metadata": {},
   "outputs": [],
   "source": [
    "import scipy\n",
    "import scipy.stats as stats\n",
    "import numpy as np\n",
    "import scipy.special as scsp\n",
    "import pandas as pd\n",
    "import os"
   ]
  },
  {
   "cell_type": "code",
   "execution_count": 14,
   "metadata": {},
   "outputs": [
    {
     "name": "stdout",
     "output_type": "stream",
     "text": [
      "size is:  36\n",
      "P(X=11) is: 0.056\n"
     ]
    }
   ],
   "source": [
    "#Practice quiz 1 for week 19 lecture: Basic definitions\n",
    "#Question 6\n",
    "n = 2\n",
    "dice = 6 ** n\n",
    "print('size is: ', dice)\n",
    "\n",
    "#Question 7 what is P(X=11)\n",
    "X = 11\n",
    "print('P(X=11) is:', round(1/dice*n,3))"
   ]
  },
  {
   "cell_type": "code",
   "execution_count": 20,
   "metadata": {},
   "outputs": [
    {
     "name": "stdout",
     "output_type": "stream",
     "text": [
      "0.8339767539364704\n"
     ]
    }
   ],
   "source": [
    "#Practice quiz 2 for week 19 lecture: Calculations with Normal Distribution\n",
    "#Question 7 P(Z<0.97)\n",
    "p_values = scipy.stats.norm.sf(abs(0.97))\n",
    "print(1 - p_values)"
   ]
  },
  {
   "cell_type": "code",
   "execution_count": 21,
   "metadata": {},
   "outputs": [
    {
     "name": "stdout",
     "output_type": "stream",
     "text": [
      "0.3445782583896758\n"
     ]
    }
   ],
   "source": [
    "#Question 8 P(Z>0.4)\n",
    "p_values = scipy.stats.norm.sf(abs(0.4))\n",
    "print(p_values)"
   ]
  },
  {
   "cell_type": "code",
   "execution_count": 23,
   "metadata": {},
   "outputs": [
    {
     "name": "stdout",
     "output_type": "stream",
     "text": [
      "0.1111111111111111\n"
     ]
    }
   ],
   "source": [
    "#H(X=11)\n",
    "p = 4\n",
    "print(p * 1 / 36)"
   ]
  },
  {
   "cell_type": "code",
   "execution_count": 16,
   "metadata": {},
   "outputs": [],
   "source": [
    "root = '/root/PycharmProjects/essex/research_methodology'\n",
    "df = pd.read_csv(os.path.join(root, \"example_samples.csv\"))"
   ]
  },
  {
   "cell_type": "code",
   "execution_count": 20,
   "metadata": {},
   "outputs": [
    {
     "name": "stdout",
     "output_type": "stream",
     "text": [
      "14.336825838487641\n",
      "16.325533102683206\n",
      "1.3730389588067535\n",
      "standard_error: 0.448\n",
      "z-value for Group 1: -2.375\n"
     ]
    }
   ],
   "source": [
    "#Practice quiz 3 for week 19 lecture: The z-test\n",
    "#meangroup 1\n",
    "z1_mean = df['GROUP 1'].mean()\n",
    "print(z1_mean)\n",
    "#mean group 1\n",
    "z2_mean = df['GROUP 2'].mean()\n",
    "print(z2_mean)\n",
    "\n",
    "#standard deviation group 1\n",
    "std_1 = df['GROUP 1'].std()\n",
    "print(std_1)\n",
    "#group1 number\n",
    "N = len(df['GROUP 1'])\n",
    "\n",
    "#Question 6\n",
    "#standard error for group 1 = population standard deviation / root square sample size\n",
    "t_std = 2.1\n",
    "std_error = t_std / np.sqrt(N)\n",
    "print('standard_error: ' + str(round(std_error,3)))\n",
    "\n",
    "#Question 7 \n",
    "#true mean 15.4 and true standard deviation 2.1\n",
    "# z-value = group_1 mean - true mean divide std_error we caculate above\n",
    "t_mean = 15.4 #mean 15.4 \n",
    "t_std = 2.1\n",
    "z = (z1_mean - t_mean) / std_error\n",
    "print('z-value for Group 1:',round(z,3))"
   ]
  },
  {
   "cell_type": "code",
   "execution_count": 23,
   "metadata": {},
   "outputs": [],
   "source": [
    "df = pd.read_csv(os.path.join(root, \"example_samples_t.csv\"))"
   ]
  },
  {
   "cell_type": "code",
   "execution_count": 24,
   "metadata": {},
   "outputs": [
    {
     "name": "stdout",
     "output_type": "stream",
     "text": [
      "14.337\n",
      "16.326\n",
      "sp 1.109\n",
      "t-test:  5.946\n"
     ]
    }
   ],
   "source": [
    "#Practice quiz 3 for week 19 lecture: The t-value####\n",
    "#meangroup 1\n",
    "t1_mean = df['GROUP 1'].mean()\n",
    "print(round(t1_mean,3))\n",
    "#mean group 1\n",
    "t2_mean = df['GROUP 2'].mean()\n",
    "print(round(t2_mean,3))\n",
    "N_1 = len(df['GROUP 1'])\n",
    "N_2 = len(df['GROUP 2'])\n",
    "\n",
    "#standard deviation group 1\n",
    "std_1 = df['GROUP 1'].std()\n",
    "# print(round(std_1,3))\n",
    "std_2 = df['GROUP 2'].std()\n",
    "# print(round(std_2,3))\n",
    "\n",
    "#Question 6 \"sp\" value\n",
    "sp = np.sqrt((np.square(std_1) + np.square(std_2)) / 2)\n",
    "print(\"sp\",abs(round(sp,3)))\n",
    "\n",
    "#Question 7 t-value for these 2 group\n",
    "t = (t1_mean - t2_mean) / (sp * np.sqrt(2/N_1))\n",
    "print(\"t-test: \",abs(round(t,3)))"
   ]
  },
  {
   "cell_type": "code",
   "execution_count": 25,
   "metadata": {},
   "outputs": [
    {
     "name": "stdout",
     "output_type": "stream",
     "text": [
      "0.958\n"
     ]
    }
   ],
   "source": [
    "#Week 20\n",
    "#Question 1 Correlation Coefficient\n",
    "df = pd.read_csv(os.path.join(root, \"dataset_for_correlation.csv\"))\n",
    "my_rho = np.corrcoef(df['x'], df['y'])\n",
    "print(round(my_rho[0][1],3))"
   ]
  },
  {
   "cell_type": "code",
   "execution_count": 26,
   "metadata": {},
   "outputs": [
    {
     "name": "stdout",
     "output_type": "stream",
     "text": [
      "1.992\n",
      "4.957\n"
     ]
    }
   ],
   "source": [
    "#Question 3 What is m? Question 4 what is c\n",
    "from statistics import mean\n",
    "xs = df['x']\n",
    "ys = df['y']\n",
    "\n",
    "def best_fit_slope_and_intercept(xs,ys):\n",
    "    m = (((mean(xs)*mean(ys)) - mean(xs*ys)) /\n",
    "         ((mean(xs)*mean(xs)) - mean(xs*xs)))\n",
    "    b = mean(ys) - m*mean(xs)    \n",
    "    return m, b\n",
    "\n",
    "def best_fit_slope_and_intercept(xs,ys):\n",
    "    m = (((mean(xs)*mean(ys)) - mean(xs*ys)) /\n",
    "         ((mean(xs)*mean(xs)) - mean(xs*xs)))\n",
    "    b = mean(ys) - m*mean(xs)\n",
    "    return m, b\n",
    "m, c = best_fit_slope_and_intercept(xs,ys)\n",
    "print('m:',round(m,3))\n",
    "print('c:',round(c,3))"
   ]
  },
  {
   "cell_type": "code",
   "execution_count": 42,
   "metadata": {},
   "outputs": [
    {
     "name": "stdout",
     "output_type": "stream",
     "text": [
      "9.938\n"
     ]
    }
   ],
   "source": [
    "#Question 5\n",
    "x= 2.5\n",
    "y = x*m + b\n",
    "print(round(y,3))"
   ]
  }
 ],
 "metadata": {
  "kernelspec": {
   "display_name": "Python 3",
   "language": "python",
   "name": "python3"
  },
  "language_info": {
   "codemirror_mode": {
    "name": "ipython",
    "version": 3.0
   },
   "file_extension": ".py",
   "mimetype": "text/x-python",
   "name": "python",
   "nbconvert_exporter": "python",
   "pygments_lexer": "ipython3",
   "version": "3.8.5"
  }
 },
 "nbformat": 4,
 "nbformat_minor": 0
}