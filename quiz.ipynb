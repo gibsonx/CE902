{
  "nbformat": 4,
  "nbformat_minor": 0,
  "metadata": {
    "kernelspec": {
      "display_name": "Python 3",
      "language": "python",
      "name": "python3"
    },
    "language_info": {
      "codemirror_mode": {
        "name": "ipython",
        "version": 3
      },
      "file_extension": ".py",
      "mimetype": "text/x-python",
      "name": "python",
      "nbconvert_exporter": "python",
      "pygments_lexer": "ipython3",
      "version": "3.8.5"
    },
    "colab": {
      "name": "quiz.ipynb",
      "provenance": [],
      "include_colab_link": true
    }
  },
  "cells": [
    {
      "cell_type": "markdown",
      "metadata": {
        "id": "view-in-github",
        "colab_type": "text"
      },
      "source": [
        "<a href=\"https://colab.research.google.com/github/gibsonx/CE902/blob/master/quiz.ipynb\" target=\"_parent\"><img src=\"https://colab.research.google.com/assets/colab-badge.svg\" alt=\"Open In Colab\"/></a>"
      ]
    },
    {
      "cell_type": "code",
      "metadata": {
        "id": "_agvxyg6mEUq"
      },
      "source": [
        "!git clone https://github.com/gibsonx/CE902.git"
      ],
      "execution_count": null,
      "outputs": []
    },
    {
      "cell_type": "code",
      "metadata": {
        "id": "0zNO69Oql5Za"
      },
      "source": [
        "import scipy\n",
        "import scipy.stats as stats\n",
        "import numpy as np\n",
        "import scipy.special as scsp\n",
        "import pandas as pd\n",
        "import os\n",
        "from scipy.stats import norm\n",
        "import matplotlib.pyplot as plt"
      ],
      "execution_count": 9,
      "outputs": []
    },
    {
      "cell_type": "code",
      "metadata": {
        "colab": {
          "base_uri": "https://localhost:8080/"
        },
        "id": "fcL5bjJvl5Zc",
        "outputId": "b5fa1202-2aba-46ea-e395-8ece1d7337c8"
      },
      "source": [
        "#Practice quiz 1 for week 19 lecture: Basic definitions\n",
        "#Question 6\n",
        "n = 2\n",
        "dice = 6 ** n\n",
        "print('size is: ', dice)\n",
        "\n",
        "#Question 7 what is P(X=11)\n",
        "X = 11\n",
        "print('P(X=11) is:', round(1/dice*n,3))"
      ],
      "execution_count": null,
      "outputs": [
        {
          "output_type": "stream",
          "text": [
            "size is:  36\n",
            "P(X=11) is: 0.056\n"
          ],
          "name": "stdout"
        }
      ]
    },
    {
      "cell_type": "code",
      "metadata": {
        "colab": {
          "base_uri": "https://localhost:8080/"
        },
        "id": "V9mYUlx-l5Zc",
        "outputId": "e33e4202-dc61-43c4-c831-cac6d93a8ceb"
      },
      "source": [
        "#Practice quiz 2 for week 19 lecture: Calculations with Normal Distribution\n",
        "#Question 7 P(Z<0.97)\n",
        "p_values = 1 - scipy.stats.norm.sf(abs(0.97))\n",
        "print(round(p_values,3))"
      ],
      "execution_count": 24,
      "outputs": [
        {
          "output_type": "stream",
          "text": [
            "0.834\n"
          ],
          "name": "stdout"
        }
      ]
    },
    {
      "cell_type": "code",
      "metadata": {
        "colab": {
          "base_uri": "https://localhost:8080/"
        },
        "id": "R1F4XcvWl5Zd",
        "outputId": "fbea44af-5ade-4e10-d311-1fa3978e97e2"
      },
      "source": [
        "#Question 8 P(Z>0.4)\n",
        "p_values = scipy.stats.norm.sf(abs(0.4))\n",
        "print(round(p_values,3))"
      ],
      "execution_count": 21,
      "outputs": [
        {
          "output_type": "stream",
          "text": [
            "0.345\n"
          ],
          "name": "stdout"
        }
      ]
    },
    {
      "cell_type": "code",
      "metadata": {
        "colab": {
          "base_uri": "https://localhost:8080/"
        },
        "id": "i_FTLuEI2gdV",
        "outputId": "f7ef94ba-0db3-4e63-f1ef-2977f3cae446"
      },
      "source": [
        "##Question 10 2-tailed z value was -2.375\r\n",
        "p_values = scipy.stats.norm.sf(abs(-2.375))*2\r\n",
        "print(round(p_values,3))"
      ],
      "execution_count": 25,
      "outputs": [
        {
          "output_type": "stream",
          "text": [
            "0.018\n"
          ],
          "name": "stdout"
        }
      ]
    },
    {
      "cell_type": "code",
      "metadata": {
        "colab": {
          "base_uri": "https://localhost:8080/"
        },
        "id": "Qj8um-dPl5Zd",
        "outputId": "2cebffe3-9423-42f0-fb53-d010d5b3d175"
      },
      "source": [
        "#H(X=11)\n",
        "p = 4\n",
        "print(p * 1 / 36)"
      ],
      "execution_count": null,
      "outputs": [
        {
          "output_type": "stream",
          "text": [
            "0.1111111111111111\n"
          ],
          "name": "stdout"
        }
      ]
    },
    {
      "cell_type": "code",
      "metadata": {
        "id": "kyL_dRcml5Zd"
      },
      "source": [
        "root = '/content/CE902'\n",
        "df = pd.read_csv(os.path.join(root, \"example_samples.csv\"))"
      ],
      "execution_count": null,
      "outputs": []
    },
    {
      "cell_type": "code",
      "metadata": {
        "colab": {
          "base_uri": "https://localhost:8080/"
        },
        "id": "iColtC_wl5Zd",
        "outputId": "152d4534-b611-435b-c939-26b52976bf2a"
      },
      "source": [
        "#Practice quiz 3 for week 19 lecture: The z-test\n",
        "#meangroup 1\n",
        "z1_mean = df['GROUP 1'].mean()\n",
        "print(z1_mean)\n",
        "#mean group 1\n",
        "z2_mean = df['GROUP 2'].mean()\n",
        "print(z2_mean)\n",
        "\n",
        "#standard deviation group 1\n",
        "std_1 = df['GROUP 1'].std()\n",
        "print(std_1)\n",
        "#group1 number\n",
        "N = len(df['GROUP 1'])\n",
        "\n",
        "#Question 6\n",
        "#standard error for group 1 = population standard deviation / root square sample size\n",
        "t_std = 2.1\n",
        "std_error = t_std / np.sqrt(N)\n",
        "print('standard_error: ' + str(round(std_error,3)))\n",
        "\n",
        "#Question 7 \n",
        "#true mean 15.4 and true standard deviation 2.1\n",
        "# z-value = group_1 mean - true mean divide std_error we caculate above\n",
        "t_mean = 15.4 #mean 15.4 \n",
        "t_std = 2.1\n",
        "z = (z1_mean - t_mean) / std_error\n",
        "print('z-value for Group 1:',round(z,3))"
      ],
      "execution_count": null,
      "outputs": [
        {
          "output_type": "stream",
          "text": [
            "14.336825838487641\n",
            "16.325533102683206\n",
            "1.3730389588067535\n",
            "standard_error: 0.448\n",
            "z-value for Group 1: -2.375\n"
          ],
          "name": "stdout"
        }
      ]
    },
    {
      "cell_type": "code",
      "metadata": {
        "id": "ulLInkVml5Ze"
      },
      "source": [
        "df = pd.read_csv(os.path.join(root, \"example_samples_t.csv\"))"
      ],
      "execution_count": null,
      "outputs": []
    },
    {
      "cell_type": "code",
      "metadata": {
        "colab": {
          "base_uri": "https://localhost:8080/"
        },
        "id": "QAiw3Z-Jl5Ze",
        "outputId": "7e1060bd-af32-484f-de6d-76995ed447dd"
      },
      "source": [
        "#Practice quiz 3 for week 19 lecture: The t-value####\n",
        "#meangroup 1\n",
        "t1_mean = df['GROUP 1'].mean()\n",
        "print(round(t1_mean,3))\n",
        "#mean group 1\n",
        "t2_mean = df['GROUP 2'].mean()\n",
        "print(round(t2_mean,3))\n",
        "N_1 = len(df['GROUP 1'])\n",
        "N_2 = len(df['GROUP 2'])\n",
        "\n",
        "#standard deviation group 1\n",
        "std_1 = df['GROUP 1'].std()\n",
        "# print(round(std_1,3))\n",
        "std_2 = df['GROUP 2'].std()\n",
        "# print(round(std_2,3))\n",
        "\n",
        "#Question 6 \"sp\" value\n",
        "sp = np.sqrt((np.square(std_1) + np.square(std_2)) / 2)\n",
        "print(\"sp\",abs(round(sp,3)))\n",
        "\n",
        "#Question 7 t-value for these 2 group\n",
        "t = (t1_mean - t2_mean) / (sp * np.sqrt(2/N_1))\n",
        "print(\"t-test: \",abs(round(t,3)))"
      ],
      "execution_count": null,
      "outputs": [
        {
          "output_type": "stream",
          "text": [
            "14.337\n",
            "16.326\n",
            "sp 1.109\n",
            "t-test:  5.946\n"
          ],
          "name": "stdout"
        }
      ]
    },
    {
      "cell_type": "code",
      "metadata": {
        "colab": {
          "base_uri": "https://localhost:8080/"
        },
        "id": "_9jLTNe2l5Ze",
        "outputId": "fea31fef-bce5-4dbc-e916-9c88e96c582b"
      },
      "source": [
        "#Week 20\n",
        "#Question 1 Correlation Coefficient\n",
        "df = pd.read_csv(os.path.join(root, \"dataset_for_correlation.csv\"))\n",
        "my_rho = np.corrcoef(df['x'], df['y'])\n",
        "print(round(my_rho[0][1],3))"
      ],
      "execution_count": null,
      "outputs": [
        {
          "output_type": "stream",
          "text": [
            "0.958\n"
          ],
          "name": "stdout"
        }
      ]
    },
    {
      "cell_type": "code",
      "metadata": {
        "colab": {
          "base_uri": "https://localhost:8080/"
        },
        "id": "jRzAmctjl5Ze",
        "outputId": "23a53830-246e-4b8b-ac36-cd298203ce96"
      },
      "source": [
        "#Question 3 What is m? Question 4 what is c\n",
        "from statistics import mean\n",
        "xs = df['x']\n",
        "ys = df['y']\n",
        "\n",
        "def best_fit_slope_and_intercept(xs,ys):\n",
        "    m = (((mean(xs)*mean(ys)) - mean(xs*ys)) /\n",
        "         ((mean(xs)*mean(xs)) - mean(xs*xs)))\n",
        "    b = mean(ys) - m*mean(xs)    \n",
        "    return m, b\n",
        "\n",
        "def best_fit_slope_and_intercept(xs,ys):\n",
        "    m = (((mean(xs)*mean(ys)) - mean(xs*ys)) /\n",
        "         ((mean(xs)*mean(xs)) - mean(xs*xs)))\n",
        "    b = mean(ys) - m*mean(xs)\n",
        "    return m, b\n",
        "m, c = best_fit_slope_and_intercept(xs,ys)\n",
        "print('m:',round(m,3))\n",
        "print('c:',round(c,3))"
      ],
      "execution_count": null,
      "outputs": [
        {
          "output_type": "stream",
          "text": [
            "m: 1.992\n",
            "c: 4.957\n"
          ],
          "name": "stdout"
        }
      ]
    },
    {
      "cell_type": "code",
      "metadata": {
        "colab": {
          "base_uri": "https://localhost:8080/"
        },
        "id": "hzAx1wUel5Zf",
        "outputId": "23376b85-b994-43da-b2d6-7ff924782373"
      },
      "source": [
        "#Question 5\n",
        "x= 2.5\n",
        "y = x*m + c\n",
        "print(round(y,3))"
      ],
      "execution_count": null,
      "outputs": [
        {
          "output_type": "stream",
          "text": [
            "9.938\n"
          ],
          "name": "stdout"
        }
      ]
    }
  ]
}