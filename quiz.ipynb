{
  "nbformat": 4,
  "nbformat_minor": 0,
  "metadata": {
    "kernelspec": {
      "display_name": "Python 3",
      "language": "python",
      "name": "python3"
    },
    "language_info": {
      "codemirror_mode": {
        "name": "ipython",
        "version": 3
      },
      "file_extension": ".py",
      "mimetype": "text/x-python",
      "name": "python",
      "nbconvert_exporter": "python",
      "pygments_lexer": "ipython3",
      "version": "3.8.5"
    },
    "colab": {
      "name": "quiz.ipynb",
      "provenance": [],
      "toc_visible": true,
      "include_colab_link": true
    }
  },
  "cells": [
    {
      "cell_type": "markdown",
      "metadata": {
        "id": "view-in-github",
        "colab_type": "text"
      },
      "source": [
        "<a href=\"https://colab.research.google.com/github/gibsonx/CE902/blob/master/quiz.ipynb\" target=\"_parent\"><img src=\"https://colab.research.google.com/assets/colab-badge.svg\" alt=\"Open In Colab\"/></a>"
      ]
    },
    {
      "cell_type": "code",
      "metadata": {
        "id": "_agvxyg6mEUq",
        "colab": {
          "base_uri": "https://localhost:8080/"
        },
        "outputId": "66ac6b91-58c3-466e-9290-ea14ceee7ee1"
      },
      "source": [
        "!git clone https://github.com/gibsonx/CE902.git"
      ],
      "execution_count": 41,
      "outputs": [
        {
          "output_type": "stream",
          "text": [
            "fatal: destination path 'CE902' already exists and is not an empty directory.\n"
          ],
          "name": "stdout"
        }
      ]
    },
    {
      "cell_type": "code",
      "metadata": {
        "id": "0zNO69Oql5Za"
      },
      "source": [
        "import scipy\n",
        "import scipy.stats as stats\n",
        "import numpy as np\n",
        "import scipy.special as scsp\n",
        "import pandas as pd\n",
        "import os\n",
        "from scipy.stats import norm\n",
        "import matplotlib.pyplot as plt"
      ],
      "execution_count": 42,
      "outputs": []
    },
    {
      "cell_type": "markdown",
      "metadata": {
        "id": "4N1YnT1PpFHP"
      },
      "source": [
        "#Practice quiz 1 for week 19 lecture: Basic definitions.\r\n",
        "\r\n",
        "This tool is for calculating simple Mean, Mode and Standard\r\n",
        "https://www.calculatorsoup.com/calculators/statistics/mean-median-mode.php\r\n",
        "\r\n",
        "#Random variable\r\n",
        "countless samples in a range means continuous random variable.\r\n",
        "\r\n",
        "fixed number of samples in a range means discrete random variable.\r\n",
        "\r\n",
        "#Random distribution\r\n",
        "When Sample size is **fixed** in a scope, it names *uniform random distribution.*\r\n",
        "\r\n",
        "When As N (sample size) becomes **large** (more than 30), it is a *normal distribution.*\r\n",
        "\r\n",
        "Question 6"
      ]
    },
    {
      "cell_type": "code",
      "metadata": {
        "colab": {
          "base_uri": "https://localhost:8080/"
        },
        "id": "mBEDhvxrvHWw",
        "outputId": "1149cc5c-21d2-4466-fb33-bc2eac3b6ffa"
      },
      "source": [
        "n = 2\r\n",
        "dice = 6 ** n\r\n",
        "print('size is: ', dice)"
      ],
      "execution_count": 43,
      "outputs": [
        {
          "output_type": "stream",
          "text": [
            "size is:  36\n"
          ],
          "name": "stdout"
        }
      ]
    },
    {
      "cell_type": "markdown",
      "metadata": {
        "id": "IqCb8znEvCU0"
      },
      "source": [
        "Question 7 Let X be the total rolled by two dice.\r\n",
        "To 3 decimal places, what is P(X=11)?, the number of premutation for total rolled (X=11) by two dice "
      ]
    },
    {
      "cell_type": "markdown",
      "metadata": {
        "id": "Rio1G5ubaF7t"
      },
      "source": [
        ""
      ]
    },
    {
      "cell_type": "code",
      "metadata": {
        "colab": {
          "base_uri": "https://localhost:8080/"
        },
        "id": "fcL5bjJvl5Zc",
        "outputId": "7cb82e14-d415-4c20-ff02-e776010c371e"
      },
      "source": [
        "X = 11 # there is no difference between {5,6} and {6,5} \n",
        "print('P(X=11) is:', round(1/dice*n,3))"
      ],
      "execution_count": 44,
      "outputs": [
        {
          "output_type": "stream",
          "text": [
            "P(X=11) is: 0.056\n"
          ],
          "name": "stdout"
        }
      ]
    },
    {
      "cell_type": "markdown",
      "metadata": {
        "id": "xaslkzRItJOe"
      },
      "source": [
        "#Practice quiz 2 for week 19 lecture: Calculations with Normal Distribution\r\n",
        "Question 7 P(Z<0.97)\r\n",
        "\r\n"
      ]
    },
    {
      "cell_type": "code",
      "metadata": {
        "colab": {
          "base_uri": "https://localhost:8080/"
        },
        "id": "V9mYUlx-l5Zc",
        "outputId": "713f6709-8839-4066-c53f-d15f7a989644"
      },
      "source": [
        "p_values = 1 - scipy.stats.norm.sf(abs(0.97))\n",
        "print(round(p_values,3))"
      ],
      "execution_count": 45,
      "outputs": [
        {
          "output_type": "stream",
          "text": [
            "0.834\n"
          ],
          "name": "stdout"
        }
      ]
    },
    {
      "cell_type": "markdown",
      "metadata": {
        "id": "Uu3C_Xl7tZDb"
      },
      "source": [
        "Question 8 P(Z>0.4)"
      ]
    },
    {
      "cell_type": "code",
      "metadata": {
        "colab": {
          "base_uri": "https://localhost:8080/"
        },
        "id": "R1F4XcvWl5Zd",
        "outputId": "42211721-3b8d-4d0f-a887-a8c514744e20"
      },
      "source": [
        "p_values = scipy.stats.norm.sf(abs(0.4))\n",
        "print(round(p_values,3))"
      ],
      "execution_count": 46,
      "outputs": [
        {
          "output_type": "stream",
          "text": [
            "0.345\n"
          ],
          "name": "stdout"
        }
      ]
    },
    {
      "cell_type": "markdown",
      "metadata": {
        "id": "jvyp85iYti_Z"
      },
      "source": [
        "Question 10 \"2-tailed\" z value was -2.375"
      ]
    },
    {
      "cell_type": "markdown",
      "metadata": {
        "id": "ojZdtZJZajm0"
      },
      "source": [
        "#Practice quiz 3 for week 19 lecture: The z-test\r\n"
      ]
    },
    {
      "cell_type": "code",
      "metadata": {
        "id": "kyL_dRcml5Zd",
        "colab": {
          "base_uri": "https://localhost:8080/",
          "height": 723
        },
        "outputId": "6dc9c48a-a972-496f-a506-7f225c60d8fd"
      },
      "source": [
        "root = '/content/CE902'\n",
        "df = pd.read_csv(os.path.join(root, \"example_samples.csv\"))\n",
        "df"
      ],
      "execution_count": 47,
      "outputs": [
        {
          "output_type": "execute_result",
          "data": {
            "text/html": [
              "<div>\n",
              "<style scoped>\n",
              "    .dataframe tbody tr th:only-of-type {\n",
              "        vertical-align: middle;\n",
              "    }\n",
              "\n",
              "    .dataframe tbody tr th {\n",
              "        vertical-align: top;\n",
              "    }\n",
              "\n",
              "    .dataframe thead th {\n",
              "        text-align: right;\n",
              "    }\n",
              "</style>\n",
              "<table border=\"1\" class=\"dataframe\">\n",
              "  <thead>\n",
              "    <tr style=\"text-align: right;\">\n",
              "      <th></th>\n",
              "      <th>GROUP 1</th>\n",
              "      <th>GROUP 2</th>\n",
              "    </tr>\n",
              "  </thead>\n",
              "  <tbody>\n",
              "    <tr>\n",
              "      <th>0</th>\n",
              "      <td>14.837225</td>\n",
              "      <td>17.591330</td>\n",
              "    </tr>\n",
              "    <tr>\n",
              "      <th>1</th>\n",
              "      <td>14.360985</td>\n",
              "      <td>15.889748</td>\n",
              "    </tr>\n",
              "    <tr>\n",
              "      <th>2</th>\n",
              "      <td>16.498451</td>\n",
              "      <td>16.108341</td>\n",
              "    </tr>\n",
              "    <tr>\n",
              "      <th>3</th>\n",
              "      <td>12.892681</td>\n",
              "      <td>16.281911</td>\n",
              "    </tr>\n",
              "    <tr>\n",
              "      <th>4</th>\n",
              "      <td>14.347184</td>\n",
              "      <td>16.410356</td>\n",
              "    </tr>\n",
              "    <tr>\n",
              "      <th>5</th>\n",
              "      <td>15.149917</td>\n",
              "      <td>15.871641</td>\n",
              "    </tr>\n",
              "    <tr>\n",
              "      <th>6</th>\n",
              "      <td>12.047268</td>\n",
              "      <td>16.684589</td>\n",
              "    </tr>\n",
              "    <tr>\n",
              "      <th>7</th>\n",
              "      <td>14.173373</td>\n",
              "      <td>15.921079</td>\n",
              "    </tr>\n",
              "    <tr>\n",
              "      <th>8</th>\n",
              "      <td>14.088430</td>\n",
              "      <td>15.735330</td>\n",
              "    </tr>\n",
              "    <tr>\n",
              "      <th>9</th>\n",
              "      <td>13.287937</td>\n",
              "      <td>17.455863</td>\n",
              "    </tr>\n",
              "    <tr>\n",
              "      <th>10</th>\n",
              "      <td>16.190888</td>\n",
              "      <td>16.765408</td>\n",
              "    </tr>\n",
              "    <tr>\n",
              "      <th>11</th>\n",
              "      <td>13.207996</td>\n",
              "      <td>15.301879</td>\n",
              "    </tr>\n",
              "    <tr>\n",
              "      <th>12</th>\n",
              "      <td>13.869021</td>\n",
              "      <td>17.304356</td>\n",
              "    </tr>\n",
              "    <tr>\n",
              "      <th>13</th>\n",
              "      <td>11.372941</td>\n",
              "      <td>15.720390</td>\n",
              "    </tr>\n",
              "    <tr>\n",
              "      <th>14</th>\n",
              "      <td>14.578127</td>\n",
              "      <td>16.035437</td>\n",
              "    </tr>\n",
              "    <tr>\n",
              "      <th>15</th>\n",
              "      <td>15.811594</td>\n",
              "      <td>16.261229</td>\n",
              "    </tr>\n",
              "    <tr>\n",
              "      <th>16</th>\n",
              "      <td>15.468624</td>\n",
              "      <td>17.218857</td>\n",
              "    </tr>\n",
              "    <tr>\n",
              "      <th>17</th>\n",
              "      <td>15.246814</td>\n",
              "      <td>17.242078</td>\n",
              "    </tr>\n",
              "    <tr>\n",
              "      <th>18</th>\n",
              "      <td>14.989003</td>\n",
              "      <td>16.268514</td>\n",
              "    </tr>\n",
              "    <tr>\n",
              "      <th>19</th>\n",
              "      <td>13.164868</td>\n",
              "      <td>16.781470</td>\n",
              "    </tr>\n",
              "    <tr>\n",
              "      <th>20</th>\n",
              "      <td>13.337399</td>\n",
              "      <td>15.821200</td>\n",
              "    </tr>\n",
              "    <tr>\n",
              "      <th>21</th>\n",
              "      <td>16.489443</td>\n",
              "      <td>14.490723</td>\n",
              "    </tr>\n",
              "  </tbody>\n",
              "</table>\n",
              "</div>"
            ],
            "text/plain": [
              "      GROUP 1    GROUP 2\n",
              "0   14.837225  17.591330\n",
              "1   14.360985  15.889748\n",
              "2   16.498451  16.108341\n",
              "3   12.892681  16.281911\n",
              "4   14.347184  16.410356\n",
              "5   15.149917  15.871641\n",
              "6   12.047268  16.684589\n",
              "7   14.173373  15.921079\n",
              "8   14.088430  15.735330\n",
              "9   13.287937  17.455863\n",
              "10  16.190888  16.765408\n",
              "11  13.207996  15.301879\n",
              "12  13.869021  17.304356\n",
              "13  11.372941  15.720390\n",
              "14  14.578127  16.035437\n",
              "15  15.811594  16.261229\n",
              "16  15.468624  17.218857\n",
              "17  15.246814  17.242078\n",
              "18  14.989003  16.268514\n",
              "19  13.164868  16.781470\n",
              "20  13.337399  15.821200\n",
              "21  16.489443  14.490723"
            ]
          },
          "metadata": {
            "tags": []
          },
          "execution_count": 47
        }
      ]
    },
    {
      "cell_type": "code",
      "metadata": {
        "colab": {
          "base_uri": "https://localhost:8080/"
        },
        "id": "iColtC_wl5Zd",
        "outputId": "b2bd7cf1-3e93-4035-f58d-7cceead289ec"
      },
      "source": [
        "#Practice quiz 3 for week 19 lecture: The z-test\n",
        "#meangroup 1\n",
        "g1_mean = df['GROUP 1'].mean()\n",
        "print(\"g1_meanz\",round(g1_mean,3))\n",
        "#mean group 1\n",
        "g2_mean = df['GROUP 2'].mean()\n",
        "print(\"g2_meanz\",round(g2_mean,3))\n",
        "\n",
        "#standard deviation group 1\n",
        "std_1 = df['GROUP 1'].std()\n",
        "print(\"g1_std:\",round(std_1,3))\n",
        "\n",
        "#standard deviation group 2\n",
        "std_2 = df['GROUP 2'].std()\n",
        "print(\"g2_std:\",round(std_2,3))\n",
        "\n",
        "#group1 number\n",
        "N = len(df['GROUP 1'])\n",
        "\n",
        "#Question 6\n",
        "#standard error for group 1 = population standard deviation / root square sample size\n",
        "pop_std = 2.1\n",
        "std_error = pop_std / np.sqrt(N)\n",
        "print('standard_error: ' + str(round(std_error,3)))\n",
        "\n",
        "#Question 7 \n",
        "#true mean 15.4 and true standard deviation 2.1\n",
        "# z-value = group_1 mean - true mean divide std_error we caculate above\n",
        "t_mean = 15.4 #mean 15.4 \n",
        "t_std = 2.1\n",
        "z = (g1_mean - t_mean) / std_error\n",
        "print('z-value for Group 1:',round(z,3))"
      ],
      "execution_count": 48,
      "outputs": [
        {
          "output_type": "stream",
          "text": [
            "g1_meanz 14.337\n",
            "g2_meanz 16.326\n",
            "g1_std: 1.373\n",
            "g2_std: 0.759\n",
            "standard_error: 0.448\n",
            "z-value for Group 1: -2.375\n"
          ],
          "name": "stdout"
        }
      ]
    },
    {
      "cell_type": "code",
      "metadata": {
        "id": "ulLInkVml5Ze"
      },
      "source": [
        "df = pd.read_csv(os.path.join(root, \"example_samples_t.csv\"))"
      ],
      "execution_count": 49,
      "outputs": []
    },
    {
      "cell_type": "markdown",
      "metadata": {
        "id": "hdAKFIdodiL1"
      },
      "source": [
        "Question 9 Assuming your z value was -2.375, Notice: it is probability inequality instead of probability\r\n",
        "Question 10 can be done by https://www.calculator.net/z-score-calculator.html?c3z1=-2.375&c3z2=2.375&calctype=range&x=85&y=22#range"
      ]
    },
    {
      "cell_type": "code",
      "metadata": {
        "colab": {
          "base_uri": "https://localhost:8080/"
        },
        "id": "i_FTLuEI2gdV",
        "outputId": "d24a9f45-a5b3-49c5-89b7-249f61fd1fbc"
      },
      "source": [
        "p_values = scipy.stats.norm.sf(abs(-2.375))*2\r\n",
        "print(round(p_values,3))"
      ],
      "execution_count": 50,
      "outputs": [
        {
          "output_type": "stream",
          "text": [
            "0.018\n"
          ],
          "name": "stdout"
        }
      ]
    },
    {
      "cell_type": "markdown",
      "metadata": {
        "id": "OY0Y3YqMf0CJ"
      },
      "source": [
        "#Practice quiz 4 for week 19 lecture: The t-test\r\n",
        "https://en.wikipedia.org/wiki/Student%27s_t-distribution#Table_of_selected_values"
      ]
    },
    {
      "cell_type": "code",
      "metadata": {
        "colab": {
          "base_uri": "https://localhost:8080/"
        },
        "id": "QAiw3Z-Jl5Ze",
        "outputId": "5f930700-2e82-4903-9426-511f45a798e8"
      },
      "source": [
        "#meangroup 1\n",
        "g1_mean = df['GROUP 1'].mean()\n",
        "print(\"g1_mean\",round(g1_mean,3))\n",
        "#mean group 1\n",
        "g2_mean = df['GROUP 2'].mean()\n",
        "print(\"g2_mean\",round(g2_mean,3))\n",
        "N_1 = len(df['GROUP 1'])\n",
        "N_2 = len(df['GROUP 2'])\n",
        "\n",
        "#standard deviation group 1\n",
        "std_1 = df['GROUP 1'].std()\n",
        "print(\"g1_std:\",round(std_1,3))\n",
        "std_2 = df['GROUP 2'].std()\n",
        "print(\"g2_std:\",round(std_2,3))\n",
        "\n",
        "#Question 6 \"sp\" value\n",
        "sp = np.sqrt((np.square(std_1) + np.square(std_2)) / 2)\n",
        "print(\"sp:\",abs(round(sp,3)))\n",
        "\n",
        "#Question 7 t-value for these 2 group\n",
        "t = (g1_mean - g2_mean) / (sp * np.sqrt(2/N_1))\n",
        "print(\"t-test: \",abs(round(t,3)))\n",
        "\n",
        "t = (g1_mean - g2_mean) / np.sqrt(((np.square(std_1)/N_1) + (np.square(std_2)/N_2)))\n",
        "print(\"t-test: \",abs(round(t,3)))"
      ],
      "execution_count": 52,
      "outputs": [
        {
          "output_type": "stream",
          "text": [
            "g1_mean 14.337\n",
            "g2_mean 16.326\n",
            "g1_std: 1.373\n",
            "g2_std: 0.759\n",
            "sp: 1.109\n",
            "t-test:  5.946\n",
            "t-test:  5.946\n"
          ],
          "name": "stdout"
        }
      ]
    },
    {
      "cell_type": "markdown",
      "metadata": {
        "id": "KOpWb1J0gnNF"
      },
      "source": [
        "#Practice quiz 1 for week 20 lecture: Basic concepts for Linear Correleation and Regression"
      ]
    },
    {
      "cell_type": "markdown",
      "metadata": {
        "id": "spKKA3fyhnTw"
      },
      "source": [
        "#Question 5\r\n",
        "4x+6y=3 => (y)' = (-4/6x)' + (3)' => y = -4/6 + 0 = -0.667 （3 decimal）"
      ]
    },
    {
      "cell_type": "markdown",
      "metadata": {
        "id": "dtLpPASsifTo"
      },
      "source": [
        "#Practice quiz 2 for week 20 lecture: Numerical Calculations for Linear Correleation and Regression"
      ]
    },
    {
      "cell_type": "code",
      "metadata": {
        "id": "_9jLTNe2l5Ze"
      },
      "source": [
        "#loading dataset\n",
        "df = pd.read_csv(os.path.join(root, \"dataset_for_correlation.csv\"))\n",
        "df"
      ],
      "execution_count": null,
      "outputs": []
    },
    {
      "cell_type": "markdown",
      "metadata": {
        "id": "HeFEglfHi0xk"
      },
      "source": [
        "#Question 1: What is the Pearson's Correlation Coefficient for this dataset?  "
      ]
    },
    {
      "cell_type": "code",
      "metadata": {
        "id": "1AIbtWeBisL3"
      },
      "source": [
        "my_rho = np.corrcoef(df['x'], df['y'])\r\n",
        "print(round(my_rho[0][1],3))"
      ],
      "execution_count": null,
      "outputs": []
    },
    {
      "cell_type": "markdown",
      "metadata": {
        "id": "ZHD2ga3hjGle"
      },
      "source": [
        "#Question 3 What is m? \r\n",
        "#Question 4 what is c?"
      ]
    },
    {
      "cell_type": "code",
      "metadata": {
        "id": "jRzAmctjl5Ze"
      },
      "source": [
        "\n",
        "from statistics import mean\n",
        "xs = df['x']\n",
        "ys = df['y']\n",
        "\n",
        "def best_fit_slope_and_intercept(xs,ys):\n",
        "    m = (((mean(xs)*mean(ys)) - mean(xs*ys)) /\n",
        "         ((mean(xs)*mean(xs)) - mean(xs*xs)))\n",
        "    b = mean(ys) - m*mean(xs)    \n",
        "    return m, b\n",
        "\n",
        "def best_fit_slope_and_intercept(xs,ys):\n",
        "    m = (((mean(xs)*mean(ys)) - mean(xs*ys)) /\n",
        "         ((mean(xs)*mean(xs)) - mean(xs*xs)))\n",
        "    b = mean(ys) - m*mean(xs)\n",
        "    return m, b\n",
        "m, c = best_fit_slope_and_intercept(xs,ys)\n",
        "print('m:',round(m,3))\n",
        "print('c:',round(c,3))"
      ],
      "execution_count": null,
      "outputs": []
    },
    {
      "cell_type": "markdown",
      "metadata": {
        "id": "o0QVkAVvjJp_"
      },
      "source": [
        "#Question 5"
      ]
    },
    {
      "cell_type": "code",
      "metadata": {
        "id": "hzAx1wUel5Zf"
      },
      "source": [
        "x= 2.5\n",
        "y = x*m + c\n",
        "print(round(y,3))"
      ],
      "execution_count": null,
      "outputs": []
    }
  ]
}